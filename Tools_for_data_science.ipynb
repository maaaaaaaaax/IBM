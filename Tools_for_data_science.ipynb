{
  "cells": [
    {
      "cell_type": "markdown",
      "metadata": {
        "collapsed": false,
        "id": "knTtc41juh6D"
      },
      "source": [
        "# Tittle: tools for data science Assignment"
      ]
    },
    {
      "cell_type": "markdown",
      "metadata": {
        "collapsed": false,
        "id": "V-Uq7xkauh6O"
      },
      "source": [
        "## In this notebook, Data Science Tools are summarized.\n",
        "\n",
        "### Objectives:\n",
        "\n",
        "* List popular Data Science languages.\n",
        "* List commonly used libraries used by Data Scientists.\n",
        "* Comment on Data Science tools.\n",
        "* Some code examples."
      ]
    },
    {
      "cell_type": "markdown",
      "metadata": {
        "collapsed": false,
        "id": "tuiCkb5nuh6Q"
      },
      "source": [
        "### Some of the popular languages that Data Scientists use are:\n",
        "\n",
        "* Python.\n",
        "* R.\n",
        "* SQL.\n",
        "* Java.\n",
        "* Julia.\n",
        "* Scala.\n",
        "* C/C++.\n",
        "* JavaScript."
      ]
    },
    {
      "cell_type": "markdown",
      "metadata": {
        "collapsed": false,
        "id": "wA7tMvjEuh6R"
      },
      "source": [
        "### Some of the commonly used libraries used by Data Scientists include:\n",
        "\n",
        "* TensorFlow.\n",
        "* NumPy.\n",
        "* SciPy.\n",
        "* Pandas.\n",
        "* Matplotlib.\n",
        "* Keras.\n",
        "* SciKit-Learn.\n",
        "* PyTorch.\n",
        "* Scrapy.\n",
        "* BeautifulSoup."
      ]
    },
    {
      "cell_type": "markdown",
      "metadata": {
        "collapsed": false,
        "id": "gBjneWesuh6S"
      },
      "source": [
        "### Data Science Tools:\n",
        "\n",
        "| Tool Category | Tools |\n",
        "|---|---|\n",
        "| Programming Languages | Python, R, Julia, Scala, MATLAB |\n",
        "| Libraries | NumPy, SciPy, Pandas, Matplotlib, Seaborn, TensorFlow, Keras |\n",
        "| Platforms | Jupyter Notebook, Google Colab, RStudio |\n",
        "| Cloud Services | AWS SageMaker, Azure Machine Learning, Google Cloud Platform AI Platform |\n",
        "| Tools for Visualization | Tableau, QlikView, Power BI |\n",
        "| Tools for Machine Learning | scikit-learn, TensorFlow, Keras |\n",
        "| Tools for Natural Language Processing | spaCy, NLTK, Stanford CoreNLP |\n",
        "| Tools for Data Visualization | Matplotlib, Seaborn, Plotly |\n"
      ]
    },
    {
      "cell_type": "markdown",
      "metadata": {
        "collapsed": false,
        "id": "LxTU_xAvuh6T"
      },
      "source": [
        "### Below are a few examples of evaluating arithmetic expressions in Python"
      ]
    },
    {
      "cell_type": "code",
      "execution_count": null,
      "metadata": {
        "id": "ymTxX97Auh6V",
        "outputId": "4df62ef9-0434-4bf5-850e-0986fcb6da24"
      },
      "outputs": [
        {
          "data": {
            "text/plain": [
              "116"
            ]
          },
          "execution_count": 1,
          "metadata": {},
          "output_type": "execute_result"
        }
      ],
      "source": [
        "(2*8)+100"
      ]
    },
    {
      "cell_type": "code",
      "execution_count": null,
      "metadata": {
        "id": "Q02v8Whvuh6c",
        "outputId": "a4e2b4bc-0d13-44c1-e2bb-c280c71d7999"
      },
      "outputs": [
        {
          "data": {
            "text/plain": [
              "2.0"
            ]
          },
          "execution_count": 3,
          "metadata": {},
          "output_type": "execute_result"
        }
      ],
      "source": [
        "minutes = 120\n",
        "hours = minutes/60\n",
        "hours"
      ]
    },
    {
      "cell_type": "markdown",
      "metadata": {
        "collapsed": false,
        "id": "MbUqR19Nuh6d"
      },
      "source": [
        "Objectives:\n",
        "\n",
        "- List popular Data Science languages.\n",
        "- List commonly used libraries used by Data Scientists.\n",
        "- Comment on Data Science tools.\n",
        "- Some code examples."
      ]
    },
    {
      "cell_type": "markdown",
      "metadata": {
        "collapsed": false,
        "id": "Z25W2yQtuh6f"
      },
      "source": [
        "## Author:\n",
        "#### Moammed Hussein"
      ]
    }
  ],
  "metadata": {
    "kernelspec": {
      "argv": [
        "/usr/bin/python3",
        "-m",
        "ipykernel",
        "--HistoryManager.enabled=False",
        "--matplotlib=inline",
        "-c",
        "%config InlineBackend.figure_formats = set(['retina'])\nimport matplotlib; matplotlib.rcParams['figure.figsize'] = (12, 7)",
        "-f",
        "{connection_file}"
      ],
      "display_name": "Python 3 (system-wide)",
      "env": {},
      "language": "python",
      "metadata": {
        "cocalc": {
          "description": "Python 3 programming language",
          "priority": 100,
          "url": "https://www.python.org/"
        }
      },
      "name": "python3",
      "resource_dir": "/ext/jupyter/kernels/python3"
    },
    "language_info": {
      "codemirror_mode": {
        "name": "ipython",
        "version": 3
      },
      "file_extension": ".py",
      "mimetype": "text/x-python",
      "name": "python",
      "nbconvert_exporter": "python",
      "pygments_lexer": "ipython3",
      "version": "3.10.12"
    },
    "colab": {
      "provenance": []
    }
  },
  "nbformat": 4,
  "nbformat_minor": 0
}