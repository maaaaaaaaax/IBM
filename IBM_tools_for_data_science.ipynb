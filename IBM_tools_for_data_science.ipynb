{
  "cells": [
    {
      "cell_type": "markdown",
      "metadata": {
        "id": "view-in-github",
        "colab_type": "text"
      },
      "source": [
        "<a href=\"https://colab.research.google.com/github/maaaaaaaaax/IBM/blob/main/IBM_tools_for_data_science.ipynb\" target=\"_parent\"><img src=\"https://colab.research.google.com/assets/colab-badge.svg\" alt=\"Open In Colab\"/></a>"
      ]
    },
    {
      "cell_type": "markdown",
      "metadata": {
        "collapsed": false,
        "id": "F0tgplz4nxHh"
      },
      "source": [
        "Tittle: tools for data science Assignment"
      ]
    },
    {
      "cell_type": "markdown",
      "metadata": {
        "collapsed": false,
        "id": "Hvo9NHsNnxHw"
      },
      "source": [
        "In this notebook, Data Science Tools are summarized.\n",
        "\n",
        "Objectives:\n",
        "\n",
        "List popular Data Science languages.\n",
        "List commonly used libraries used by Data Scientists.\n",
        "Comment on Data Science tools.\n",
        "Some code examples."
      ]
    },
    {
      "cell_type": "markdown",
      "metadata": {
        "collapsed": false,
        "id": "OcoWP3fCnxHy"
      },
      "source": [
        "Some of the popular languages that Data Scientists use are:\n",
        "\n",
        "Python.\n",
        "R.\n",
        "SQL.\n",
        "Java.\n",
        "Julia.\n",
        "Scala.\n",
        "C/C++.\n",
        "JavaScript."
      ]
    },
    {
      "cell_type": "markdown",
      "metadata": {
        "collapsed": false,
        "id": "tjdP3bKwnxHz"
      },
      "source": [
        "Some of the commonly used libraries used by Data Scientists include:\n",
        "\n",
        "TensorFlow.\n",
        "NumPy.\n",
        "SciPy.\n",
        "Pandas.\n",
        "Matplotlib.\n",
        "Keras.\n",
        "SciKit-Learn.\n",
        "PyTorch.\n",
        "Scrapy.\n",
        "BeautifulSoup."
      ]
    },
    {
      "cell_type": "markdown",
      "metadata": {
        "collapsed": false,
        "id": "wQbJYE4bnxH1"
      },
      "source": [
        "Data Science Tools:\n",
        "\n",
        "\n",
        "Apache Spark\n",
        "\n",
        "KNIME\n",
        "\n",
        "TensorFlow\n",
        "\n",
        "Tableau\n",
        "\n",
        "Weka\n",
        "\n",
        "MATLAB\n",
        "\n",
        "SAS\n",
        "\n",
        "Excel"
      ]
    },
    {
      "cell_type": "markdown",
      "metadata": {
        "collapsed": false,
        "id": "3qccU4qCnxH3"
      },
      "source": [
        "Below are a few examples of evaluating arithmetic expressions in Python"
      ]
    },
    {
      "cell_type": "code",
      "execution_count": null,
      "metadata": {
        "id": "2NhPhRQInxH4",
        "outputId": "79961e5c-0c6d-45d5-aa7c-eb6c281af4c1"
      },
      "outputs": [
        {
          "data": {
            "text/plain": [
              "116"
            ]
          },
          "execution_count": 1,
          "metadata": {},
          "output_type": "execute_result"
        }
      ],
      "source": [
        "(2*8)+100"
      ]
    },
    {
      "cell_type": "code",
      "execution_count": null,
      "metadata": {
        "id": "y7mGeI05nxIB",
        "outputId": "ae9e6093-92d4-487a-ce9c-ffe0903c712e"
      },
      "outputs": [
        {
          "data": {
            "text/plain": [
              "2.0"
            ]
          },
          "execution_count": 3,
          "metadata": {},
          "output_type": "execute_result"
        }
      ],
      "source": [
        "minutes = 120\n",
        "hours = minutes/60\n",
        "hours"
      ]
    },
    {
      "cell_type": "markdown",
      "metadata": {
        "collapsed": false,
        "id": "GE0IYj83nxID"
      },
      "source": [
        "Objectives:\n",
        "\n",
        "List popular Data Science languages.\n",
        "List commonly used libraries used by Data Scientists.\n",
        "Comment on Data Science tools.\n",
        "Some code examples."
      ]
    },
    {
      "cell_type": "markdown",
      "metadata": {
        "collapsed": false,
        "id": "cva4QQqQnxIE"
      },
      "source": [
        "Author:\n",
        "Moammed Hussein"
      ]
    }
  ],
  "metadata": {
    "kernelspec": {
      "argv": [
        "/usr/bin/python3",
        "-m",
        "ipykernel",
        "--HistoryManager.enabled=False",
        "--matplotlib=inline",
        "-c",
        "%config InlineBackend.figure_formats = set(['retina'])\nimport matplotlib; matplotlib.rcParams['figure.figsize'] = (12, 7)",
        "-f",
        "{connection_file}"
      ],
      "display_name": "Python 3 (system-wide)",
      "env": {},
      "language": "python",
      "metadata": {
        "cocalc": {
          "description": "Python 3 programming language",
          "priority": 100,
          "url": "https://www.python.org/"
        }
      },
      "name": "python3",
      "resource_dir": "/ext/jupyter/kernels/python3"
    },
    "language_info": {
      "codemirror_mode": {
        "name": "ipython",
        "version": 3
      },
      "file_extension": ".py",
      "mimetype": "text/x-python",
      "name": "python",
      "nbconvert_exporter": "python",
      "pygments_lexer": "ipython3",
      "version": "3.10.12"
    },
    "colab": {
      "provenance": [],
      "include_colab_link": true
    }
  },
  "nbformat": 4,
  "nbformat_minor": 0
}